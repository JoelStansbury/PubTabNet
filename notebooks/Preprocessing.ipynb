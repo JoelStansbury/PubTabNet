{
 "cells": [
  {
   "cell_type": "markdown",
   "id": "75aa85e4-746c-4f1c-8cc9-b56551d69caf",
   "metadata": {
    "tags": []
   },
   "source": [
    "## Imports"
   ]
  },
  {
   "cell_type": "code",
   "execution_count": null,
   "id": "077d9e19-0232-41e5-b5e7-ade29052eef7",
   "metadata": {},
   "outputs": [],
   "source": [
    "from pathlib import Path\n",
    "import json\n",
    "from collections import defaultdict"
   ]
  },
  {
   "cell_type": "code",
   "execution_count": null,
   "id": "05af9dc6-f577-444e-beae-e89d7108dda3",
   "metadata": {},
   "outputs": [],
   "source": [
    "import cv2\n",
    "from IPython.display import display\n",
    "import matplotlib.pyplot as plt\n",
    "import numpy as np\n",
    "import pandas as pd\n",
    "import pytesseract as tess\n",
    "from PIL import Image\n",
    "from sklearn.cluster import DBSCAN"
   ]
  },
  {
   "cell_type": "markdown",
   "id": "0b76988a-5ed9-4e2f-81a5-3703422f8af4",
   "metadata": {},
   "source": [
    "## Constants"
   ]
  },
  {
   "cell_type": "code",
   "execution_count": null,
   "id": "f34a2f8f-9e40-4bfb-840c-edc267c43ee2",
   "metadata": {},
   "outputs": [],
   "source": [
    "TESS_SCALE = 5\n",
    "DATA_DIR = Path(r\"C:\\Users\\stans\\Documents\\Projects\\Datasets\\pubtabnet.tar\\pubtabnet\\pubtabnet\")  # C:\\datasets\\pubtabnet\n",
    "TEST_DIR = DATA_DIR / \"train\"\n",
    "\n",
    "# Used for drawing boxes\n",
    "COLORS = {\n",
    "    'black':(0,0,0),\n",
    "    'red':(150,0,0),\n",
    "    'green':(0,150,0),\n",
    "    'blue':(0,0,150)\n",
    "}\n",
    "\n",
    "FORMAT_CHARS = [\n",
    "    '<b>',\n",
    "    '</b>',\n",
    "    '<i>',\n",
    "    '</i>',\n",
    "    '<sup>',\n",
    "    '</sup>',\n",
    "    '<sub>',\n",
    "    '</sub>',\n",
    "]"
   ]
  },
  {
   "cell_type": "markdown",
   "id": "5f1a7b54-3a50-475b-8c00-d445d8496e76",
   "metadata": {
    "tags": []
   },
   "source": [
    "## Image Utils\n",
    "\n",
    "Functions:\n",
    "* `scale(im, scale)`: used to scale images (needed for accurate results from tesseract)\n",
    "* `draw(im, bbox, fmt='cv2', color='black')`: draws a rectangle"
   ]
  },
  {
   "cell_type": "code",
   "execution_count": null,
   "id": "0d32e4ec-e1a8-4627-91c3-778f0f09901b",
   "metadata": {},
   "outputs": [],
   "source": [
    "def scale(im, scale):\n",
    "    return im.resize((int(x*scale) for x in im.size))\n",
    "\n",
    "def draw(im, bbox, fmt='cv2', color='black'):\n",
    "    im = np.array(im)  # in case it is in PIL format\n",
    "    if fmt=='cv2':\n",
    "        x,y,w,h = bbox\n",
    "    elif fmt == 'pil':\n",
    "        x1,y1,x2,y2 = bbox\n",
    "        x,y,w,h = x1,y1,int((x1+x2)/2),int((y1+y2)/2)\n",
    "    \n",
    "    W,H,_ = im.shape\n",
    "    \n",
    "    if isinstance(color, str):\n",
    "        color = COLORS[color]\n",
    "    \n",
    "    pt1 = (x, y)\n",
    "    pt2 = (x+w, y+h)\n",
    "    return cv2.rectangle(im, pt1=pt1, pt2=pt2,\n",
    "        color=color, thickness=1\n",
    "    )"
   ]
  },
  {
   "cell_type": "markdown",
   "id": "83094cd0-f214-4bd3-9716-d7509670ebe1",
   "metadata": {
    "tags": []
   },
   "source": [
    "## Load Data"
   ]
  },
  {
   "cell_type": "code",
   "execution_count": null,
   "id": "a9fa1428-a472-4d8e-b314-2493ce9c27af",
   "metadata": {},
   "outputs": [],
   "source": [
    "files = list(TEST_DIR.glob(\"*.png\"))"
   ]
  },
  {
   "cell_type": "code",
   "execution_count": null,
   "id": "75cf0f77-bb0e-436e-a73b-852952113aed",
   "metadata": {},
   "outputs": [],
   "source": [
    "with open(DATA_DIR / \"PubTabNet_2.0.0.jsonl\", \"r\", encoding=\"utf8\") as f:\n",
    "    json_list = list(f)"
   ]
  },
  {
   "cell_type": "code",
   "execution_count": null,
   "id": "e891769b-2f5c-49bb-89aa-d99569766179",
   "metadata": {},
   "outputs": [],
   "source": [
    "fname_index_map = {}\n",
    "\n",
    "for i, json_str in enumerate(json_list):\n",
    "    result = json.loads(json_str)\n",
    "    fname_index_map[result[\"filename\"]] = i"
   ]
  },
  {
   "cell_type": "code",
   "execution_count": null,
   "id": "413c7392-7e26-4511-8663-feef50c8f0e3",
   "metadata": {},
   "outputs": [],
   "source": []
  },
  {
   "cell_type": "markdown",
   "id": "57937fa9-4d65-4804-815b-6405172d780a",
   "metadata": {
    "tags": []
   },
   "source": [
    "## Data Utils\n",
    "Utility functions for interacting with the PubTabNet Dataset\n",
    "\n",
    "\n",
    "Functions:\n",
    "* `X(i)`: returns the i'th image as a PIL.Image object\n",
    "* `Y(i)`: returns the i'th json object (dict) representing the target of our model\n",
    "* `get_data(i)`: similar to `Y(i)` but in dataframe format"
   ]
  },
  {
   "cell_type": "code",
   "execution_count": null,
   "id": "96b9e82d-838d-4cc9-9164-73aa5b261e5c",
   "metadata": {
    "tags": []
   },
   "outputs": [],
   "source": [
    "def Y(i):\n",
    "    fname = files[i]\n",
    "    i = fname_index_map[fname.parts[-1]]\n",
    "    return json.loads(json_list[i])\n",
    "\n",
    "def X(i):\n",
    "    return Image.open(files[i])"
   ]
  },
  {
   "cell_type": "code",
   "execution_count": null,
   "id": "c6b2e67c-d2fe-420b-9241-b7f561dac3f3",
   "metadata": {
    "tags": []
   },
   "outputs": [],
   "source": [
    "def html_iterator(y):\n",
    "    html = y['html']['structure']['tokens']\n",
    "    \n",
    "    row = 0\n",
    "    column = 0\n",
    "    is_head = False\n",
    "    is_body = False\n",
    "    row_start=None\n",
    "    row_end=None\n",
    "    col_start=0\n",
    "    col_end=0\n",
    "    raw = ''\n",
    "    \n",
    "    for t in html:\n",
    "        raw += t\n",
    "        if '<td' in t:\n",
    "            col_start = column\n",
    "        \n",
    "        elif t == '</td>':\n",
    "            col_end = column\n",
    "            row_end = row\n",
    "            column += 1\n",
    "            yield {\n",
    "                'col_start':col_start,\n",
    "                'col_end':col_end,\n",
    "                'row_start':row_start,\n",
    "                'row_end':row_end,\n",
    "                'is_head':is_head,\n",
    "                'is_body':is_body,\n",
    "                'raw': raw,\n",
    "            }\n",
    "            raw = ''\n",
    "            \n",
    "        elif t == '<thead>':\n",
    "            row_start = row\n",
    "            is_head = True\n",
    "            \n",
    "        elif t == '</thead>':\n",
    "            is_head = False\n",
    "            \n",
    "        elif t == '<tr>':\n",
    "            row_start = row\n",
    "            \n",
    "        elif t == '</tr>':\n",
    "            column = 0\n",
    "            row += 1\n",
    "            \n",
    "        elif \"colspan\" in t:\n",
    "            # extract the int from the string and increment the row counter\n",
    "            column += int(t.split('\"')[1]) - 1\n",
    "        \n",
    "        elif t == '<tbody>':\n",
    "            is_body = True\n",
    "            \n",
    "        elif t == '</tbody>':\n",
    "            is_body = False\n",
    "            \n",
    "        elif t in ['>']:\n",
    "            pass\n",
    "        \n",
    "        else:\n",
    "            raise ValueError(t)"
   ]
  },
  {
   "cell_type": "code",
   "execution_count": null,
   "id": "6ba8151e-ce5f-4948-82bc-4bd7c48d70fd",
   "metadata": {
    "tags": []
   },
   "outputs": [],
   "source": [
    "def clean_text(cell):\n",
    "    text = ''.join(cell[\"tokens\"]).strip()\n",
    "    for fmt in FORMAT_CHARS:\n",
    "        text = text.replace(fmt, '')\n",
    "    return text"
   ]
  },
  {
   "cell_type": "code",
   "execution_count": null,
   "id": "e34cc4bb-9e6b-422b-91ca-80342133eaf4",
   "metadata": {
    "tags": []
   },
   "outputs": [],
   "source": [
    "def get_data(i):\n",
    "    data = Y(i)\n",
    "    struct = html_iterator(data)\n",
    "    \n",
    "    rows = []\n",
    "    for cell in data['html']['cells']:\n",
    "        cell_data = next(struct)\n",
    "        if 'bbox' in cell:\n",
    "            x1,y1,x2,y2 = cell[\"bbox\"]\n",
    "            x,y,w,h = x1,y1,x2-x1,y2-y1\n",
    "            cell_data['text'] = clean_text(cell),\n",
    "            cell_data['bbox'] = x,y,w,h\n",
    "            rows.append(cell_data)\n",
    "            \n",
    "    df = pd.DataFrame(rows)\n",
    "    # pandas wants to convert the str to a tuple for some reason\n",
    "    # so we force it back to a str here\n",
    "    df['text'] = [x[0] for x in df['text']]\n",
    "    return df"
   ]
  },
  {
   "cell_type": "code",
   "execution_count": null,
   "id": "b05f39f2-a339-4271-a1fc-dc708291ddaa",
   "metadata": {},
   "outputs": [],
   "source": [
    "def display_ground_truth_bboxes(i):\n",
    "    im = X(i)\n",
    "    data = Y(i)\n",
    "    bboxes = [x['bbox'] for x in data['html']['cells'] if 'bbox' in x]\n",
    "    for bbox in bboxes:\n",
    "        im = draw(im, bbox, fmt='pil', color='green')\n",
    "    return Image.fromarray(im)"
   ]
  },
  {
   "cell_type": "code",
   "execution_count": null,
   "id": "d4775149-5177-40e3-b5e9-cc44d30324d9",
   "metadata": {},
   "outputs": [],
   "source": [
    "display_ground_truth_bboxes(1)"
   ]
  },
  {
   "cell_type": "markdown",
   "id": "a231bb3f-60a8-477c-b96a-f48511af2472",
   "metadata": {
    "tags": []
   },
   "source": [
    "## Tesseract Utils\n",
    "From the image above we can see that the bounding boxes in our dataset suck.<br>\n",
    "The one redeeming quality is that the top-left corner seems pretty accurate.<br>\n",
    "So, the plan is to use the boxes returned by Tesseract to clean it up.\n",
    "\n",
    "Functions:\n",
    "* `get_tessdata(i)`: filters output of tess.image_to_data to get a dataframe of words and bboxes for the i'th image\n",
    "* `display_tess_bboxes(i)`: displays the result of get_tessdata"
   ]
  },
  {
   "cell_type": "code",
   "execution_count": null,
   "id": "9b1a115d-926f-4b0d-ba4b-b59682d55e6e",
   "metadata": {
    "jupyter": {
     "source_hidden": true
    },
    "tags": []
   },
   "outputs": [],
   "source": [
    "def tessdata_to_df(tessdata, keep_garbage=False):\n",
    "    \"\"\"Ingests a string repr of tesseract output and spits out a dataframe\"\"\"\n",
    "    rows = [r.split(\"\\t\") for r in tessdata.split(\"\\n\")[:-1]]\n",
    "    h = rows[0]\n",
    "    rows = rows[1:]\n",
    "        \n",
    "    df = pd.DataFrame(rows)\n",
    "    df.columns = h\n",
    "    \n",
    "    # set types\n",
    "    dtypes = [int]*10 + [float, str]\n",
    "    for c,t in zip(df.columns, dtypes):\n",
    "        df[c] = df[c].values.astype(t)\n",
    "    \n",
    "    if not keep_garbage:\n",
    "        df = df[[x.strip() != \"\" for x in df[\"text\"]]]\n",
    "        df = df[df[\"conf\"] > 0].reset_index()\n",
    "    \n",
    "    return df\n",
    "\n",
    "\n",
    "def fit_bboxes_to_text(im, tessdata):\n",
    "    \"\"\"\n",
    "    Tesseract bboxes sometimes have very wide margins on them. This is bad for the purpose\n",
    "    of determining the grid that defines the layout.\n",
    "    Shrinks each side of the bbox until ~8% of the darkness is lost.\n",
    "    \n",
    "    im <PIL.Image or np.array()>: image used for cropping out the boxes defined in tessdata\n",
    "    \n",
    "    tessdata <Pandas.DataFrame>: Should be a dataframe with columns [\"left\",\"top\",\"width\",\"height\"]\n",
    "        as is returned by tessdata_to_df\n",
    "    \"\"\"\n",
    "    df_left = tessdata[\"left\"].values\n",
    "    df_top = tessdata[\"top\"].values\n",
    "    df_width = tessdata[\"width\"].values\n",
    "    df_height = tessdata[\"height\"].values\n",
    "    \n",
    "    im = np.array(im).sum(axis=2)\n",
    "    im = im / im.max()\n",
    "    im = abs(im - 1)\n",
    "    for i, bbox in enumerate(tessdata[['left', 'top', 'width', 'height']].values):\n",
    "        x,y,w,h = bbox\n",
    "        cropped = im[y:y+h, x:x+w]\n",
    "        \n",
    "        v_sum = cropped.sum(axis=1)\n",
    "        h_sum = cropped.sum(axis=0)\n",
    "        \n",
    "        top = 0\n",
    "        while sum(v_sum[top:]) > sum(v_sum)*0.98 and top < len(v_sum)-3:\n",
    "            top += 1\n",
    "            \n",
    "        bottom = len(v_sum)\n",
    "        while sum(v_sum[top:bottom]) > sum(v_sum)*0.96 and bottom > top+2:\n",
    "            bottom -= 1\n",
    "            \n",
    "            \n",
    "        left = 0\n",
    "        while sum(h_sum[left:]) > sum(h_sum)*0.98 and left < len(h_sum)-3:\n",
    "            left += 1\n",
    "            \n",
    "        right = len(h_sum)\n",
    "        while sum(h_sum[left:right]) > sum(h_sum)*0.96 and right > left+2:\n",
    "            right -= 1\n",
    "        \n",
    "        df_left[i] = x + left\n",
    "        df_top[i] = y + top\n",
    "        df_width[i] = right-left\n",
    "        df_height[i] = bottom-top\n",
    "        \n",
    "    df = tessdata.copy()\n",
    "    df[\"left\"] = df_left\n",
    "    df[\"top\"] = df_top\n",
    "    df[\"width\"] = df_width\n",
    "    df[\"height\"] = df_height\n",
    "    return df\n",
    "\n",
    "\n",
    "def im_to_data(im):\n",
    "    tessdata = tess.image_to_data(im, config=\"--psm 1\")\n",
    "    return tessdata_to_df(tessdata)"
   ]
  },
  {
   "cell_type": "code",
   "execution_count": null,
   "id": "d8cf4e65-705b-4d54-824b-8181310a09fd",
   "metadata": {
    "tags": []
   },
   "outputs": [],
   "source": [
    "def get_tessdata(i):\n",
    "    im = scale(X(i), TESS_SCALE)\n",
    "    # im = np.array(im).min(axis=2) > 100  # convert to bw (maybe unnecessary)\n",
    "    df = im_to_data(im)\n",
    "    df[['left','top','width','height']] = df[['left','top','width','height']]//TESS_SCALE\n",
    "    return df"
   ]
  },
  {
   "cell_type": "code",
   "execution_count": null,
   "id": "d56d8636-4835-487e-a93a-73d50f0f5dde",
   "metadata": {
    "tags": []
   },
   "outputs": [],
   "source": [
    "def display_tess_bboxes(i):\n",
    "    im = X(i)\n",
    "    data = get_tessdata(i)\n",
    "    for bbox in data[['left','top','width','height']].values:\n",
    "        im = draw(im, bbox, fmt='cv2', color='green')\n",
    "    return Image.fromarray(im)"
   ]
  },
  {
   "cell_type": "code",
   "execution_count": null,
   "id": "d9b4cf0f-98d3-4f4f-8314-2b72427320b8",
   "metadata": {
    "tags": []
   },
   "outputs": [],
   "source": [
    "display_tess_bboxes(3)"
   ]
  },
  {
   "cell_type": "markdown",
   "id": "304787ec-898c-42b5-b902-9c32db6ec912",
   "metadata": {},
   "source": [
    "## Fuzzy Matching\n",
    "Ok, so we have converted the raw input data into a more manageable dataframe via `get_data`.<br>\n",
    "We also have the text and bounding boxes returned by tesseract.<br>\n",
    "Tessdata, while cleaner, does miss some of the words entirely."
   ]
  },
  {
   "cell_type": "code",
   "execution_count": null,
   "id": "717009bf-7413-4c1c-bdce-5757224bec26",
   "metadata": {},
   "outputs": [],
   "source": []
  },
  {
   "cell_type": "code",
   "execution_count": null,
   "id": "26b3aaa5-0a4d-44ee-9a6b-31a617f09c0f",
   "metadata": {},
   "outputs": [],
   "source": []
  },
  {
   "cell_type": "code",
   "execution_count": null,
   "id": "531b4af5-baf6-4314-b41f-aaf698a40d83",
   "metadata": {},
   "outputs": [],
   "source": [
    "i = 0\n",
    "get_tessdata(i)"
   ]
  },
  {
   "cell_type": "code",
   "execution_count": null,
   "id": "1251b4be-36e7-44c3-8b68-de4e67e9c065",
   "metadata": {},
   "outputs": [],
   "source": [
    "get_data(i)"
   ]
  },
  {
   "cell_type": "code",
   "execution_count": null,
   "id": "418b9c41-22e5-4228-991c-4f053a8681cd",
   "metadata": {},
   "outputs": [],
   "source": []
  },
  {
   "cell_type": "code",
   "execution_count": null,
   "id": "94cead1d-bc87-46a0-b62a-ffb68769bcbe",
   "metadata": {},
   "outputs": [],
   "source": []
  },
  {
   "cell_type": "code",
   "execution_count": null,
   "id": "bc39c5db-e983-4d84-a3a1-6231e16d1da0",
   "metadata": {},
   "outputs": [],
   "source": []
  },
  {
   "cell_type": "code",
   "execution_count": null,
   "id": "6bc8ad4f-9aba-4543-9726-0a8ac865c77c",
   "metadata": {},
   "outputs": [],
   "source": []
  },
  {
   "cell_type": "code",
   "execution_count": null,
   "id": "2112cfee-ccba-4ecf-98b0-65b4e6050b3c",
   "metadata": {},
   "outputs": [],
   "source": []
  },
  {
   "cell_type": "code",
   "execution_count": null,
   "id": "91e388f6-493f-4754-b379-3f76ebca3652",
   "metadata": {},
   "outputs": [],
   "source": []
  },
  {
   "cell_type": "code",
   "execution_count": null,
   "id": "1ff62e73-934e-44e0-bbb0-ad46e310d526",
   "metadata": {},
   "outputs": [],
   "source": [
    "f = 0"
   ]
  },
  {
   "cell_type": "code",
   "execution_count": null,
   "id": "8404dfba-3257-4024-9168-d1ec69d2e0fa",
   "metadata": {},
   "outputs": [],
   "source": [
    "def ground_truth_grid(i, data=None):\n",
    "    if data is None:\n",
    "        data = Y(f)['html']['structure']\n",
    "    \n",
    "    assert len(list(data.keys())) == 1, data.keys()\n",
    "    is_head = False\n",
    "    is_data = False\n",
    "    c=-1\n",
    "    r=-1\n",
    "    cspan=1\n",
    "    grid = []\n",
    "    for t in data['tokens']:\n",
    "        if t == '<thead>':\n",
    "            is_head = True\n",
    "            \n",
    "        elif t == '</thead>':\n",
    "            is_head = False\n",
    "            \n",
    "        elif t == '<tr>':\n",
    "            c = -1\n",
    "            r += 1\n",
    "            \n",
    "        elif '<td' in t:\n",
    "            c += 1\n",
    "            cspan = 1\n",
    "            \n",
    "        elif \"colspan\" in t:\n",
    "            cspan = int(t.split('\"')[1])\n",
    "            \n",
    "        elif t == '</td>':\n",
    "            grid.append([r,c,cspan,is_head])\n",
    "            \n",
    "        elif t in ['>', '</tr>', '<tbody>', '</tbody>']:\n",
    "            pass\n",
    "        \n",
    "        else:\n",
    "            raise ValueError(t)\n",
    "            \n",
    "    return grid\n",
    "\n",
    "def ground_truth_table(i):\n",
    "    html = Y(f)['html']\n",
    "    grid = ground_truth_grid(i, html['structure'])\n",
    "    values = [\"\".join(x['tokens']) for x in html[\"cells\"] if 'tokens' in x]\n",
    "    \n",
    "    nr = max([x[0] for x in grid])+1\n",
    "    nc = max([x[1] for x in grid])+1\n",
    "    rows = []\n",
    "    for i in range(nr):\n",
    "        rows.append([])\n",
    "        for j in range(nc):\n",
    "            rows[-1].append('')\n",
    "    \n",
    "    \n",
    "    c_offset = 0\n",
    "    for i,g in enumerate(grid):\n",
    "        r,c,s,h = g\n",
    "        if c==0:  # reset the column offset on new row\n",
    "            c_offset=0\n",
    "        rows[r][c+c_offset] = values[i]\n",
    "        c_offset += s-1\n",
    "    return rows"
   ]
  },
  {
   "cell_type": "markdown",
   "id": "d8b90a2b-7a0d-47ff-ab5a-f6f9d69b76be",
   "metadata": {},
   "source": [
    "## Mapping Tessdata to Ground Truth\n",
    "I don't like the bboxes provided in the dataset."
   ]
  },
  {
   "cell_type": "code",
   "execution_count": null,
   "id": "499dd789-25fc-45fa-9ab2-9f3e37e6c57c",
   "metadata": {},
   "outputs": [],
   "source": [
    "# f += 1\n",
    "im = X(f)\n",
    "data = Y(f)\n",
    "display(pd.DataFrame(ground_truth_table(f)))\n",
    "im"
   ]
  },
  {
   "cell_type": "code",
   "execution_count": null,
   "id": "b9fbee6f-511c-4db7-89f2-43cd1d93bf2f",
   "metadata": {},
   "outputs": [],
   "source": [
    "ground_truth_grid(f)"
   ]
  },
  {
   "cell_type": "code",
   "execution_count": null,
   "id": "ec2332c7-71cb-4d8d-b24d-0fe36cb9795f",
   "metadata": {},
   "outputs": [],
   "source": [
    "[\"\".join(x['tokens']) for x in data['html'][\"cells\"] if 'tokens' in x]"
   ]
  },
  {
   "cell_type": "code",
   "execution_count": null,
   "id": "8d860a74-41ef-474a-9b88-6df56f43a092",
   "metadata": {},
   "outputs": [],
   "source": []
  }
 ],
 "metadata": {
  "kernelspec": {
   "display_name": "Python 3 (ipykernel)",
   "language": "python",
   "name": "python3"
  },
  "language_info": {
   "codemirror_mode": {
    "name": "ipython",
    "version": 3
   },
   "file_extension": ".py",
   "mimetype": "text/x-python",
   "name": "python",
   "nbconvert_exporter": "python",
   "pygments_lexer": "ipython3",
   "version": "3.10.0"
  }
 },
 "nbformat": 4,
 "nbformat_minor": 5
}
