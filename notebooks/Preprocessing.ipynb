{
 "cells": [
  {
   "cell_type": "markdown",
   "id": "75aa85e4-746c-4f1c-8cc9-b56551d69caf",
   "metadata": {
    "tags": []
   },
   "source": [
    "## Imports"
   ]
  },
  {
   "cell_type": "code",
   "execution_count": 1,
   "id": "077d9e19-0232-41e5-b5e7-ade29052eef7",
   "metadata": {},
   "outputs": [],
   "source": [
    "from pathlib import Path\n",
    "import json\n",
    "from collections import defaultdict"
   ]
  },
  {
   "cell_type": "code",
   "execution_count": 2,
   "id": "05af9dc6-f577-444e-beae-e89d7108dda3",
   "metadata": {},
   "outputs": [],
   "source": [
    "import cv2\n",
    "from IPython.display import display\n",
    "import matplotlib.pyplot as plt\n",
    "import numpy as np\n",
    "import pandas as pd\n",
    "import pytesseract as tess\n",
    "from PIL import Image\n",
    "from sklearn.cluster import DBSCAN"
   ]
  },
  {
   "cell_type": "markdown",
   "id": "0b76988a-5ed9-4e2f-81a5-3703422f8af4",
   "metadata": {},
   "source": [
    "## Constants"
   ]
  },
  {
   "cell_type": "code",
   "execution_count": 3,
   "id": "f34a2f8f-9e40-4bfb-840c-edc267c43ee2",
   "metadata": {},
   "outputs": [],
   "source": [
    "TESS_SCALE = 5\n",
    "DATA_DIR = Path(r\"C:\\Users\\stans\\Documents\\Projects\\Datasets\\pubtabnet.tar\\pubtabnet\\pubtabnet\")  # C:\\datasets\\pubtabnet\n",
    "TEST_DIR = DATA_DIR / \"train\"\n",
    "\n",
    "# Used for drawing boxes\n",
    "COLORS = {\n",
    "    'black':(0,0,0),\n",
    "    'red':(150,0,0),\n",
    "    'green':(0,150,0),\n",
    "    'blue':(0,0,150)\n",
    "}\n",
    "\n",
    "FORMAT_CHARS = [\n",
    "    '<b>',\n",
    "    '</b>',\n",
    "    '<i>',\n",
    "    '</i>',\n",
    "    '<sup>',\n",
    "    '</sup>',\n",
    "    '<sub>',\n",
    "    '</sub>',\n",
    "]"
   ]
  },
  {
   "cell_type": "markdown",
   "id": "5f1a7b54-3a50-475b-8c00-d445d8496e76",
   "metadata": {
    "tags": []
   },
   "source": [
    "## Image Utils\n",
    "\n",
    "Functions:\n",
    "* `scale(im, scale)`: used to scale images (needed for accurate results from tesseract)\n",
    "* `draw(im, bbox, fmt='cv2', color='black')`: draws a rectangle"
   ]
  },
  {
   "cell_type": "code",
   "execution_count": 61,
   "id": "0d32e4ec-e1a8-4627-91c3-778f0f09901b",
   "metadata": {},
   "outputs": [],
   "source": [
    "def scale(im, scale):\n",
    "    return im.resize((int(x*scale) for x in im.size))\n",
    "\n",
    "def draw(im, bbox, fmt='cv2', color='black'):\n",
    "    im = np.array(im)  # in case it is in PIL format\n",
    "    if fmt=='cv2':\n",
    "        x,y,w,h = bbox\n",
    "    elif fmt == 'pil':\n",
    "        x1,y1,x2,y2 = bbox\n",
    "        x,y,w,h = x1,y1,x2-x1,y2-y1\n",
    "    \n",
    "    W,H,_ = im.shape\n",
    "    \n",
    "    if isinstance(color, str):\n",
    "        color = COLORS[color]\n",
    "    \n",
    "    pt1 = (x, y)\n",
    "    pt2 = (x+w, y+h)\n",
    "    return cv2.rectangle(im, pt1=pt1, pt2=pt2,\n",
    "        color=color, thickness=1\n",
    "    )"
   ]
  },
  {
   "cell_type": "markdown",
   "id": "83094cd0-f214-4bd3-9716-d7509670ebe1",
   "metadata": {
    "tags": []
   },
   "source": [
    "## Load Data"
   ]
  },
  {
   "cell_type": "code",
   "execution_count": 5,
   "id": "a9fa1428-a472-4d8e-b314-2493ce9c27af",
   "metadata": {},
   "outputs": [],
   "source": [
    "files = list(TEST_DIR.glob(\"*.png\"))"
   ]
  },
  {
   "cell_type": "code",
   "execution_count": 6,
   "id": "75cf0f77-bb0e-436e-a73b-852952113aed",
   "metadata": {},
   "outputs": [],
   "source": [
    "with open(DATA_DIR / \"PubTabNet_2.0.0.jsonl\", \"r\", encoding=\"utf8\") as f:\n",
    "    json_list = list(f)"
   ]
  },
  {
   "cell_type": "code",
   "execution_count": 7,
   "id": "e891769b-2f5c-49bb-89aa-d99569766179",
   "metadata": {},
   "outputs": [],
   "source": [
    "fname_index_map = {}\n",
    "\n",
    "for i, json_str in enumerate(json_list):\n",
    "    result = json.loads(json_str)\n",
    "    fname_index_map[result[\"filename\"]] = i"
   ]
  },
  {
   "cell_type": "code",
   "execution_count": null,
   "id": "413c7392-7e26-4511-8663-feef50c8f0e3",
   "metadata": {},
   "outputs": [],
   "source": []
  },
  {
   "cell_type": "markdown",
   "id": "57937fa9-4d65-4804-815b-6405172d780a",
   "metadata": {
    "tags": []
   },
   "source": [
    "## Data Utils\n",
    "Utility functions for interacting with the PubTabNet Dataset\n",
    "\n",
    "\n",
    "Functions:\n",
    "* `X(i)`: returns the i'th image as a PIL.Image object\n",
    "* `Y(i)`: returns the i'th json object (dict) representing the target of our model\n",
    "* `get_data(i)`: similar to `Y(i)` but in dataframe format"
   ]
  },
  {
   "cell_type": "code",
   "execution_count": 8,
   "id": "96b9e82d-838d-4cc9-9164-73aa5b261e5c",
   "metadata": {
    "tags": []
   },
   "outputs": [],
   "source": [
    "def Y(i):\n",
    "    fname = files[i]\n",
    "    i = fname_index_map[fname.parts[-1]]\n",
    "    return json.loads(json_list[i])\n",
    "\n",
    "def X(i):\n",
    "    return Image.open(files[i])"
   ]
  },
  {
   "cell_type": "code",
   "execution_count": 9,
   "id": "c6b2e67c-d2fe-420b-9241-b7f561dac3f3",
   "metadata": {
    "tags": []
   },
   "outputs": [],
   "source": [
    "def html_iterator(y):\n",
    "    html = y['html']['structure']['tokens']\n",
    "    \n",
    "    row = 0\n",
    "    column = 0\n",
    "    is_head = False\n",
    "    is_body = False\n",
    "    row_start=None\n",
    "    row_end=None\n",
    "    col_start=0\n",
    "    col_end=0\n",
    "    raw = ''\n",
    "    \n",
    "    for t in html:\n",
    "        raw += t\n",
    "        if '<td' in t:\n",
    "            col_start = column\n",
    "        \n",
    "        elif t == '</td>':\n",
    "            col_end = column\n",
    "            row_end = row\n",
    "            column += 1\n",
    "            yield {\n",
    "                'col_start':col_start,\n",
    "                'col_end':col_end,\n",
    "                'row_start':row_start,\n",
    "                'row_end':row_end,\n",
    "                'is_head':is_head,\n",
    "                'is_body':is_body,\n",
    "                'raw': raw,\n",
    "            }\n",
    "            raw = ''\n",
    "            \n",
    "        elif t == '<thead>':\n",
    "            row_start = row\n",
    "            is_head = True\n",
    "            \n",
    "        elif t == '</thead>':\n",
    "            is_head = False\n",
    "            \n",
    "        elif t == '<tr>':\n",
    "            row_start = row\n",
    "            \n",
    "        elif t == '</tr>':\n",
    "            column = 0\n",
    "            row += 1\n",
    "            \n",
    "        elif \"colspan\" in t:\n",
    "            # extract the int from the string and increment the row counter\n",
    "            column += int(t.split('\"')[1]) - 1\n",
    "        \n",
    "        elif t == '<tbody>':\n",
    "            is_body = True\n",
    "            \n",
    "        elif t == '</tbody>':\n",
    "            is_body = False\n",
    "            \n",
    "        elif t in ['>']:\n",
    "            pass\n",
    "        \n",
    "        else:\n",
    "            raise ValueError(t)"
   ]
  },
  {
   "cell_type": "code",
   "execution_count": 10,
   "id": "6ba8151e-ce5f-4948-82bc-4bd7c48d70fd",
   "metadata": {
    "tags": []
   },
   "outputs": [],
   "source": [
    "def clean_text(cell):\n",
    "    text = ''.join(cell[\"tokens\"]).strip()\n",
    "    for fmt in FORMAT_CHARS:\n",
    "        text = text.replace(fmt, '')\n",
    "    return text"
   ]
  },
  {
   "cell_type": "code",
   "execution_count": 64,
   "id": "e34cc4bb-9e6b-422b-91ca-80342133eaf4",
   "metadata": {
    "tags": []
   },
   "outputs": [],
   "source": [
    "def get_data(i):\n",
    "    data = Y(i)\n",
    "    struct = html_iterator(data)\n",
    "    \n",
    "    rows = []\n",
    "    for cell in data['html']['cells']:\n",
    "        cell_data = next(struct)\n",
    "        if 'bbox' in cell:\n",
    "            cell_data['text'] = clean_text(cell),\n",
    "            cell_data['bbox'] = cell[\"bbox\"]\n",
    "            rows.append(cell_data)\n",
    "            \n",
    "    df = pd.DataFrame(rows)\n",
    "    # pandas wants to convert the str to a tuple for some reason\n",
    "    # so we force it back to a str here\n",
    "    df['text'] = [x[0] for x in df['text']]\n",
    "    return df"
   ]
  },
  {
   "cell_type": "code",
   "execution_count": 65,
   "id": "b05f39f2-a339-4271-a1fc-dc708291ddaa",
   "metadata": {},
   "outputs": [],
   "source": [
    "def display_ground_truth_bboxes(i):\n",
    "    im = X(i)\n",
    "    data = Y(i)\n",
    "    bboxes = [x['bbox'] for x in data['html']['cells'] if 'bbox' in x]\n",
    "    for bbox in bboxes:\n",
    "        im = draw(im, bbox, fmt='pil', color='green')\n",
    "    return Image.fromarray(im)"
   ]
  },
  {
   "cell_type": "code",
   "execution_count": 66,
   "id": "d4775149-5177-40e3-b5e9-cc44d30324d9",
   "metadata": {},
   "outputs": [
    {
     "data": {
      "image/png": "[encoded data removed]",
      "text/plain": [
       "<PIL.Image.Image image mode=RGB size=503x212 at 0x1685C6BE470>"
      ]
     },
     "execution_count": 66,
     "metadata": {},
     "output_type": "execute_result"
    }
   ],
   "source": [
    "display_ground_truth_bboxes(1)"
   ]
  },
  {
   "cell_type": "code",
   "execution_count": null,
   "id": "2112cfee-ccba-4ecf-98b0-65b4e6050b3c",
   "metadata": {},
   "outputs": [],
   "source": []
  },
  {
   "cell_type": "code",
   "execution_count": 101,
   "id": "91e388f6-493f-4754-b379-3f76ebca3652",
   "metadata": {},
   "outputs": [],
   "source": [
    "def make_smaller_dataset(start=0, limit=-1, outdir='.'):\n",
    "    res = {}\n",
    "    for fname in files[start:start+limit]:\n",
    "        i = fname_index_map[fname.parts[-1]]\n",
    "        data = json.loads(json_list[i])\n",
    "        res[fname.name] = [x['bbox'] for x in data['html']['cells'] if 'bbox' in x]\n",
    "    with open(f\"{outdir}/{start}.json\", 'w') as f:\n",
    "        json.dump(res, f)"
   ]
  },
  {
   "cell_type": "code",
   "execution_count": 99,
   "id": "3aac7dc0-0b71-4fac-978f-e3227129538b",
   "metadata": {},
   "outputs": [],
   "source": [
    "# start = 0\n",
    "# limit = 10000\n",
    "# N = len(files)\n",
    "# outdir = \"targets\"\n",
    "# Path(outdir).mkdir(exist_ok = True)\n",
    "# while start<N:\n",
    "#     make_smaller_dataset(start, limit, outdir)\n",
    "#     start += limit"
   ]
  },
  {
   "cell_type": "code",
   "execution_count": 102,
   "id": "691bee5c-f473-4fd3-8d82-82b228d23a4c",
   "metadata": {},
   "outputs": [],
   "source": [
    "make_smaller_dataset()"
   ]
  },
  {
   "cell_type": "code",
   "execution_count": null,
   "id": "5c1f420a-5dcf-4a77-a0da-b6c7fc1f951e",
   "metadata": {},
   "outputs": [],
   "source": []
  }
 ],
 "metadata": {
  "kernelspec": {
   "display_name": "Python 3 (ipykernel)",
   "language": "python",
   "name": "python3"
  },
  "language_info": {
   "codemirror_mode": {
    "name": "ipython",
    "version": 3
   },
   "file_extension": ".py",
   "mimetype": "text/x-python",
   "name": "python",
   "nbconvert_exporter": "python",
   "pygments_lexer": "ipython3",
   "version": "3.10.0"
  }
 },
 "nbformat": 4,
 "nbformat_minor": 5
}
