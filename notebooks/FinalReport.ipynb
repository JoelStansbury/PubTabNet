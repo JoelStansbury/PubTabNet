{
 "cells": [
  {
   "cell_type": "markdown",
   "id": "82768ae9-79ef-4a4b-82fa-ee2f3825ef04",
   "metadata": {
    "tags": []
   },
   "source": [
    "# PubTabNet Playground\n",
    "_A rule-based approach to paring tabular data from images._\n",
    "\n",
    "### What is table parsing?\n",
    "Loosely speaking the objective of a table parsing algorithm is to convert an image of a table, extracted from a scanned document for example, into\n",
    "a csv.\n",
    "\n",
    "\n",
    "![1](imgs/1.png)\n",
    "\n",
    "Tissues, Wild-type rabbits, hLPL rabbits,<br>\n",
    "Perirenal fat, 1305±336, 1420±500,<br>\n",
    "...\n",
    "\n",
    "### Why is table parsing?\n",
    "The need for a fully optical table parsing algorithm is part of a larger need for a fully optical document parsing engine. Say, for example,\n",
    "there is a pdf document of a textbook, but it is just a collection of scanned images. It would be great if there was a way to search for keywords within that document. Indeed this technology does exist and has existed for quite some time. This capability can be obtained using Optical Character Recognition (OCR) which has been commonly available since the 1970s. The information age has brought with it a host of fancy Natural Language Processing (NPL) utilities such as entity recognition, text summarization, etc. Our ability to apply connect these two technologies together, i.e. applying NLP utilities on the words found within a scanned document, however, has remained an elusive target for a number of reasons that I won't go into directly. However, many of the principle roadblocks with regards to parsing tabular data from images share commonalities with those of parsing documents in general.\n",
    "\n",
    "### Who is table parsing?\n",
    "For the purposes of this task, tables can categorized into one of four groups; good, bad, twice as bad, and slightly worse. The example above is a good one. Here is a bad table.\n",
    "\n",
    "![2](imgs/2.png)\n",
    "\n",
    "What is wrong with this table is the existance of multiple column headers. I.e., \"Model 1\" and \"Model 3\" are sub-columns of \"CN Interactions\". Here is another bad example. In this example, there are rows which should be interpreted as subcategories of other rows.\n",
    "\n",
    "![3](imgs/3.png)\n",
    "\n",
    "Naturally, the twice as bad category refers to tables which have both multi-columns and multi-rows. The final category \"slightly worse\" refers to tables which are slanted. Here is a figure from \"Rethinking Table Recognition using Graph Neural Networks\" (Qasim) which includes all four (and is the source of this categorization methodology)\n",
    "\n",
    "![4](imgs/4.PNG)\n",
    "\n",
    "This categorization is an artifact of traditional methods for parsing tables which can be summarized as; Perform OCR on the image to determine the coordinates of the data values and fit the values to a cartesian grid. Qasim proposes an ingeneous algorithm which bypasses the roadblocks associated with fitting non-grid-like items to a grid, by reformulating the problem into one of relationship prediction. Unfortunately, I found this paper quite late in my research and did not have time to experiment with the proposed model, so this article is my best attempt at solving a the problem using the traditional thought process; find the data values, fit them to a grid.\n",
    "\n",
    "\n",
    "### When is table parsing?\n",
    "In 2020, IBM released PubTabNet, a dataset aimed at solving this problem once and for all. The dataset consists of images of tables as the input. The target is the XML used to generate each image, which I have taken the liberty to process into a more usable format in a separate module.\n",
    "\n",
    "### The code"
   ]
  },
  {
   "cell_type": "code",
   "execution_count": 1,
   "id": "ce7e635d-6b60-45e6-a7ad-e2cd96837d0b",
   "metadata": {},
   "outputs": [],
   "source": [
    "from pathlib import Path"
   ]
  },
  {
   "cell_type": "code",
   "execution_count": 2,
   "id": "365c415d-ae09-4ddd-9401-3f47ebaa5630",
   "metadata": {},
   "outputs": [],
   "source": [
    "import cv2\n",
    "import numpy as np\n",
    "import matplotlib.pyplot as plt"
   ]
  },
  {
   "cell_type": "code",
   "execution_count": 3,
   "id": "6358226f-2850-48bc-8963-134936c7f35a",
   "metadata": {},
   "outputs": [],
   "source": [
    "from PubTabNetDataset import PubTabNet\n",
    "from TesseractUtils import im_to_data, scale"
   ]
  },
  {
   "cell_type": "markdown",
   "id": "780e32d3-6ca7-4761-952e-f888579dfb53",
   "metadata": {},
   "source": [
    "PubTabNetDataset and TesseractUtils are custom modules that make the code a bit more consice. Primarily they handle loading the dataset and all of the OCR processing and output formatting. They can be found in the repo.\n",
    "### Load the data"
   ]
  },
  {
   "cell_type": "code",
   "execution_count": 4,
   "id": "316b29ab-11b1-4de2-a689-3d145fe7b231",
   "metadata": {},
   "outputs": [],
   "source": [
    "data_dir = Path(r\"C:\\Users\\stans\\Documents\\Projects\\Datasets\\pubtabnet.tar\\pubtabnet\\pubtabnet\")\n",
    "train_dir = data_dir / \"train\"\n",
    "target_path = data_dir / \"PubTabNet_2.0.0.jsonl\"\n",
    "TrainDataset = PubTabNet(train_dir, target_path)"
   ]
  },
  {
   "cell_type": "markdown",
   "id": "90c3ad69-c1a9-4f73-8693-8b3f8202a412",
   "metadata": {},
   "source": [
    "### Utility Functions"
   ]
  },
  {
   "cell_type": "code",
   "execution_count": 5,
   "id": "636f43c9-aeac-4a75-b130-cd01d4bd92e3",
   "metadata": {},
   "outputs": [],
   "source": [
    "COLORS = {\n",
    "    'black':(0,0,0),\n",
    "    'red':(150,0,0),\n",
    "    'green':(0,150,0),\n",
    "    'blue':(0,0,150)\n",
    "}\n",
    "\n",
    "def draw(im, bbox, color='black'):\n",
    "    im = np.array(im)  # in case it is in PIL format\n",
    "    x, y, w, h = bbox\n",
    "    # w = x2 - x\n",
    "    # h = y2 - y\n",
    "    W,H,_ = im.shape\n",
    "    \n",
    "    if isinstance(color, str):\n",
    "        color = COLORS[color]\n",
    "    \n",
    "    pt1 = (x, y)\n",
    "    pt2 = (x+w, y+h)\n",
    "    return cv2.rectangle(im, pt1=pt1, pt2=pt2,\n",
    "        color=color, thickness=1\n",
    "    )"
   ]
  },
  {
   "cell_type": "markdown",
   "id": "276a62ee-8daf-44c6-ae82-094c9619bfcc",
   "metadata": {},
   "source": [
    "### Inspecting the data"
   ]
  },
  {
   "cell_type": "code",
   "execution_count": 6,
   "id": "0dc479d8-092a-4b70-9a75-b58d1fc69fa7",
   "metadata": {},
   "outputs": [
    {
     "data": {
      "image/png": "[encoded data removed]",
      "text/plain": [
       "<PIL.PngImagePlugin.PngImageFile image mode=RGB size=503x72 at 0x2C55BAC76A0>"
      ]
     },
     "execution_count": 6,
     "metadata": {},
     "output_type": "execute_result"
    }
   ],
   "source": [
    "im, trg = TrainDataset[0]\n",
    "im"
   ]
  },
  {
   "cell_type": "code",
   "execution_count": 7,
   "id": "7bd18155-8fa3-4df7-8164-b4540ed0e936",
   "metadata": {},
   "outputs": [
    {
     "data": {
      "text/plain": [
       "{'col_start': 0,\n",
       " 'col_end': 0,\n",
       " 'row_start': 0,\n",
       " 'row_end': 0,\n",
       " 'is_head': True,\n",
       " 'is_body': False,\n",
       " 'raw': '<thead><tr><td></td>',\n",
       " 'text': ('Kinetic parameter',),\n",
       " 'bbox': [5, 9, 66, 19]}"
      ]
     },
     "execution_count": 7,
     "metadata": {},
     "output_type": "execute_result"
    }
   ],
   "source": [
    "trg[0]"
   ]
  },
  {
   "cell_type": "markdown",
   "id": "e3af5b9d-a73b-4c5c-b9ce-d457db06cc00",
   "metadata": {},
   "source": [
    "Essentially we have the bounding box of each cell in terms of the pixel coordinates and the cell coordinate, and whether or not the cell is part of the header."
   ]
  },
  {
   "cell_type": "code",
   "execution_count": 8,
   "id": "de885d58-18bb-4c7a-9aef-266d14d868bf",
   "metadata": {},
   "outputs": [
    {
     "data": {
      "text/plain": [
       "<matplotlib.image.AxesImage at 0x2c55e0e4940>"
      ]
     },
     "execution_count": 8,
     "metadata": {},
     "output_type": "execute_result"
    },
    {
     "data": {
      "image/png": "[encoded data removed]",
      "text/plain": [
       "<Figure size 432x288 with 1 Axes>"
      ]
     },
     "metadata": {
      "needs_background": "light"
     },
     "output_type": "display_data"
    }
   ],
   "source": [
    "cp = im.copy()\n",
    "for cell in trg:\n",
    "    x, y, x2, y2 = cell[\"bbox\"]\n",
    "    w = x2 - x\n",
    "    h = y2 - y\n",
    "    cp = draw(cp, (x,y,w,h), \"red\")\n",
    "plt.imshow(cp)"
   ]
  },
  {
   "cell_type": "markdown",
   "id": "e94152bf-ac01-4329-966d-1995613032bc",
   "metadata": {},
   "source": [
    "We want to get all of that data from the image. As mentioned before the first step is to perform OCR"
   ]
  },
  {
   "cell_type": "markdown",
   "id": "5377f1d1-2f56-4bf1-a3a6-58736c186a4f",
   "metadata": {},
   "source": [
    "### OCR\n",
    "Again, this `im_to_data` function is defined in a separate script which is included in the repo. The primary function is to reformat the raw text output from Tesseract into a dataframe. `scaling_factor` takes care of scaling up the image (for better OCR results) and scaling the resulting bboxes back down to the original size."
   ]
  },
  {
   "cell_type": "code",
   "execution_count": 9,
   "id": "d5b09d01-2dde-4f07-a6a9-2976eaf0f85f",
   "metadata": {},
   "outputs": [
    {
     "data": {
      "text/html": [
       "<div>\n",
       "<style scoped>\n",
       "    .dataframe tbody tr th:only-of-type {\n",
       "        vertical-align: middle;\n",
       "    }\n",
       "\n",
       "    .dataframe tbody tr th {\n",
       "        vertical-align: top;\n",
       "    }\n",
       "\n",
       "    .dataframe thead th {\n",
       "        text-align: right;\n",
       "    }\n",
       "</style>\n",
       "<table border=\"1\" class=\"dataframe\">\n",
       "  <thead>\n",
       "    <tr style=\"text-align: right;\">\n",
       "      <th></th>\n",
       "      <th>index</th>\n",
       "      <th>level</th>\n",
       "      <th>page_num</th>\n",
       "      <th>block_num</th>\n",
       "      <th>par_num</th>\n",
       "      <th>line_num</th>\n",
       "      <th>word_num</th>\n",
       "      <th>left</th>\n",
       "      <th>top</th>\n",
       "      <th>width</th>\n",
       "      <th>height</th>\n",
       "      <th>conf</th>\n",
       "      <th>text</th>\n",
       "    </tr>\n",
       "  </thead>\n",
       "  <tbody>\n",
       "    <tr>\n",
       "      <th>0</th>\n",
       "      <td>4</td>\n",
       "      <td>5</td>\n",
       "      <td>1</td>\n",
       "      <td>1</td>\n",
       "      <td>1</td>\n",
       "      <td>1</td>\n",
       "      <td>1</td>\n",
       "      <td>6</td>\n",
       "      <td>10</td>\n",
       "      <td>22</td>\n",
       "      <td>6</td>\n",
       "      <td>94.0</td>\n",
       "      <td>Kinetic</td>\n",
       "    </tr>\n",
       "    <tr>\n",
       "      <th>1</th>\n",
       "      <td>5</td>\n",
       "      <td>5</td>\n",
       "      <td>1</td>\n",
       "      <td>1</td>\n",
       "      <td>1</td>\n",
       "      <td>1</td>\n",
       "      <td>2</td>\n",
       "      <td>31</td>\n",
       "      <td>11</td>\n",
       "      <td>34</td>\n",
       "      <td>6</td>\n",
       "      <td>95.0</td>\n",
       "      <td>parameter</td>\n",
       "    </tr>\n",
       "    <tr>\n",
       "      <th>2</th>\n",
       "      <td>6</td>\n",
       "      <td>5</td>\n",
       "      <td>1</td>\n",
       "      <td>1</td>\n",
       "      <td>1</td>\n",
       "      <td>1</td>\n",
       "      <td>3</td>\n",
       "      <td>100</td>\n",
       "      <td>8</td>\n",
       "      <td>16</td>\n",
       "      <td>10</td>\n",
       "      <td>86.0</td>\n",
       "      <td>ND</td>\n",
       "    </tr>\n",
       "    <tr>\n",
       "      <th>3</th>\n",
       "      <td>7</td>\n",
       "      <td>5</td>\n",
       "      <td>1</td>\n",
       "      <td>1</td>\n",
       "      <td>1</td>\n",
       "      <td>1</td>\n",
       "      <td>4</td>\n",
       "      <td>206</td>\n",
       "      <td>8</td>\n",
       "      <td>3</td>\n",
       "      <td>10</td>\n",
       "      <td>30.0</td>\n",
       "      <td>BD</td>\n",
       "    </tr>\n",
       "    <tr>\n",
       "      <th>4</th>\n",
       "      <td>8</td>\n",
       "      <td>5</td>\n",
       "      <td>1</td>\n",
       "      <td>1</td>\n",
       "      <td>1</td>\n",
       "      <td>1</td>\n",
       "      <td>5</td>\n",
       "      <td>305</td>\n",
       "      <td>10</td>\n",
       "      <td>5</td>\n",
       "      <td>6</td>\n",
       "      <td>73.0</td>\n",
       "      <td>0</td>\n",
       "    </tr>\n",
       "  </tbody>\n",
       "</table>\n",
       "</div>"
      ],
      "text/plain": [
       "   index  level  page_num  block_num  par_num  line_num  word_num  left  top  \\\n",
       "0      4      5         1          1        1         1         1     6   10   \n",
       "1      5      5         1          1        1         1         2    31   11   \n",
       "2      6      5         1          1        1         1         3   100    8   \n",
       "3      7      5         1          1        1         1         4   206    8   \n",
       "4      8      5         1          1        1         1         5   305   10   \n",
       "\n",
       "   width  height  conf       text  \n",
       "0     22       6  94.0    Kinetic  \n",
       "1     34       6  95.0  parameter  \n",
       "2     16      10  86.0         ND  \n",
       "3      3      10  30.0         BD  \n",
       "4      5       6  73.0          0  "
      ]
     },
     "execution_count": 9,
     "metadata": {},
     "output_type": "execute_result"
    }
   ],
   "source": [
    "df = im_to_data(im, scaling_factor=3)\n",
    "df.head()"
   ]
  },
  {
   "cell_type": "code",
   "execution_count": 10,
   "id": "c97aa8bf-003c-4952-8e24-94c8617a6085",
   "metadata": {},
   "outputs": [
    {
     "data": {
      "text/plain": [
       "<matplotlib.image.AxesImage at 0x2c55e305fc0>"
      ]
     },
     "execution_count": 10,
     "metadata": {},
     "output_type": "execute_result"
    },
    {
     "data": {
      "image/png": "[encoded data removed]",
      "text/plain": [
       "<Figure size 432x288 with 1 Axes>"
      ]
     },
     "metadata": {
      "needs_background": "light"
     },
     "output_type": "display_data"
    }
   ],
   "source": [
    "# show the bboxes for fun\n",
    "cp = im.copy()\n",
    "for bbox in df[[\"left\", \"top\", \"width\", \"height\"]].values:\n",
    "    cp = draw(cp, bbox, \"red\")\n",
    "plt.imshow(cp)"
   ]
  },
  {
   "cell_type": "markdown",
   "id": "24cad526-ce7e-48cb-8664-da17b7f67bcc",
   "metadata": {},
   "source": [
    "### Grid detection\n",
    "The general strategy here is to try and segment the image vertically and horizontally, using the slices devoid of any text as markers for a column/row boundary. To accomplish this, we'll use the boxes returned by tesseract to identify regions of text, then examine the vertical and horizontal slices of the mask to try and detect gaps in content."
   ]
  },
  {
   "cell_type": "code",
   "execution_count": 11,
   "id": "34770f97-3a2e-483c-a79b-f2319001be7b",
   "metadata": {},
   "outputs": [],
   "source": [
    "mask = np.zeros(im.size)\n",
    "for bbox in df[['left', 'top', 'width', 'height']].values:\n",
    "    x,y,w,h = bbox\n",
    "    mask[x:x+w,y:y+h]=1"
   ]
  },
  {
   "cell_type": "code",
   "execution_count": 12,
   "id": "cadf29bf-ff8c-434c-ab1d-88904ae30103",
   "metadata": {},
   "outputs": [
    {
     "data": {
      "text/plain": [
       "<matplotlib.image.AxesImage at 0x2c55e391a50>"
      ]
     },
     "execution_count": 12,
     "metadata": {},
     "output_type": "execute_result"
    },
    {
     "data": {
      "image/png": "[encoded data removed]",
      "text/plain": [
       "<Figure size 432x288 with 1 Axes>"
      ]
     },
     "metadata": {
      "needs_background": "light"
     },
     "output_type": "display_data"
    }
   ],
   "source": [
    "plt.imshow(mask.T)"
   ]
  },
  {
   "cell_type": "code",
   "execution_count": 13,
   "id": "1e4fb03a-6329-4d03-afbf-bd4d0f87914f",
   "metadata": {},
   "outputs": [
    {
     "data": {
      "text/plain": [
       "[<matplotlib.lines.Line2D at 0x2c55e428c10>]"
      ]
     },
     "execution_count": 13,
     "metadata": {},
     "output_type": "execute_result"
    },
    {
     "data": {
      "image/png": "[encoded data removed]",
      "text/plain": [
       "<Figure size 432x288 with 1 Axes>"
      ]
     },
     "metadata": {
      "needs_background": "light"
     },
     "output_type": "display_data"
    }
   ],
   "source": [
    "# vertical text distribution\n",
    "plt.plot(mask.sum(axis=0))"
   ]
  },
  {
   "cell_type": "code",
   "execution_count": 14,
   "id": "d55cfb05-95df-4c4f-ba7d-93f8b9e7229d",
   "metadata": {},
   "outputs": [
    {
     "data": {
      "text/plain": [
       "[<matplotlib.lines.Line2D at 0x2c55e4b94b0>]"
      ]
     },
     "execution_count": 14,
     "metadata": {},
     "output_type": "execute_result"
    },
    {
     "data": {
      "image/png": "[encoded data removed]",
      "text/plain": [
       "<Figure size 432x288 with 1 Axes>"
      ]
     },
     "metadata": {
      "needs_background": "light"
     },
     "output_type": "display_data"
    }
   ],
   "source": [
    "# horizontal text distribution\n",
    "plt.plot(mask.sum(axis=1))"
   ]
  },
  {
   "cell_type": "markdown",
   "id": "fe2da20c-e350-4567-ab3e-5078f7042184",
   "metadata": {},
   "source": [
    "The following function attempts to detect the minima in those two plots in order to determine the vertical and horizontal locations at which the table should be split"
   ]
  },
  {
   "cell_type": "code",
   "execution_count": 59,
   "id": "9a6d5e4b-1f41-48c8-b315-3422f6f4fbf3",
   "metadata": {},
   "outputs": [],
   "source": [
    "def grid_detect(\n",
    "    im,\n",
    "    v_thresh=0.05,\n",
    "    h_thresh=0.05,\n",
    "    min_v_gap = 5, # pixels\n",
    "    min_h_gap = 10, # pixels\n",
    "):\n",
    "    \"\"\"\n",
    "    im <PIL.Image or imarray>: Image of a table\n",
    "        \n",
    "    v_thresh <float> (0.1): Threshold for considering a row of pixels to be considered\n",
    "        a vertical boundary in the grid. Higher values mean fewer rows.\n",
    "        \n",
    "    h_thresh <float> (0.1): Threshold for considering a column of pixels to be considered\n",
    "        a horizontal boundary in the grid. Higher values mean fewer columns.\n",
    "    \"\"\"\n",
    "    # use Tesseract to find all words\n",
    "    df = im_to_data(im, scaling_factor=3)\n",
    "\n",
    "    # create a word mask from tesseract bboxes\n",
    "    mask = np.zeros(im.size)\n",
    "    for bbox in df[['left', 'top', 'width', 'height']].values:\n",
    "        x,y,w,h = bbox\n",
    "        mask[x:x+w,y:y+h]=1\n",
    "\n",
    "    v_density = mask.sum(axis=0)/max(mask.sum(axis=0))\n",
    "    h_density = mask.sum(axis=1)/max(mask.sum(axis=1))\n",
    "    \n",
    "    # scale up the density vectors so that the mean is equal to 0.2\n",
    "    # this makes the thresholds directly related to the average density\n",
    "    v_density = v_density / (np.mean(v_density)*4)\n",
    "    h_density = h_density / (np.mean(h_density)*4)\n",
    "    \n",
    "    \n",
    "    # move down the image and record spans which exceed the threshold for being considered a row\n",
    "    grid_y = []\n",
    "    to_del = set()\n",
    "    y=0\n",
    "    out=True\n",
    "    for y,val in enumerate(v_density):\n",
    "        if val>v_thresh and out:\n",
    "            out=False\n",
    "            if len(grid_y)==0 or y - grid_y[-1][-1] > min_v_gap:\n",
    "                grid_y.append([y])\n",
    "            else:\n",
    "                grid_y[-1] = [grid_y[-1][0]]\n",
    "        if val < v_thresh and not out:\n",
    "            grid_y[-1].append(y)\n",
    "            out = True\n",
    "        if not out:  # inside of a peak\n",
    "            if val > 1.5:\n",
    "                to_del.add(len(grid_y)-1)\n",
    "    \n",
    "    \n",
    "    # expand to fill\n",
    "    grid_y[0][0]=0\n",
    "    grid_y[-1][1]=im.size[1]-1\n",
    "    for i in range(len(grid_y)-1):\n",
    "        x1 = grid_y[i][1] # end of this\n",
    "        x2 = grid_y[i+1][0] # begining of next\n",
    "        m = int((x1+x2)/2)\n",
    "        grid_y[i][1]=m\n",
    "        grid_y[i+1][0]=m\n",
    "    \n",
    "    grid_x = []\n",
    "    to_del = set()\n",
    "    x=0\n",
    "    out=True\n",
    "    for x,val in enumerate(h_density):\n",
    "        if val>h_thresh and out:\n",
    "            out = False\n",
    "            if len(grid_x)==0 or x - grid_x[-1][-1] > min_h_gap:\n",
    "                grid_x.append([x])\n",
    "            else:\n",
    "                grid_x[-1] = [grid_x[-1][0]]\n",
    "        if not val>h_thresh and not out:\n",
    "            grid_x[-1].append(x)\n",
    "            out = True\n",
    "        if not out:  # inside of a peak\n",
    "            if val > 1.5:\n",
    "                to_del.add(len(grid_x)-1)\n",
    "    \n",
    "    # expand to fill\n",
    "    grid_x[0][0]=0\n",
    "    grid_x[-1][1]=im.size[0]-1\n",
    "    for i in range(len(grid_x)-1):\n",
    "        x1 = grid_x[i][1] # end of this\n",
    "        x2 = grid_x[i+1][0] # begining of next\n",
    "        m = int((x1+x2)/2)\n",
    "        grid_x[i][1]=m\n",
    "        grid_x[i+1][0]=m\n",
    "    \n",
    "    grid = []\n",
    "    for y in grid_y:\n",
    "        y1,y2 = y\n",
    "        for x in grid_x:\n",
    "            x1,x2 = x\n",
    "            grid.append([x1,y1,x2-x1,y2-y1])\n",
    "    return grid, df"
   ]
  },
  {
   "cell_type": "code",
   "execution_count": 67,
   "id": "741db162-2b65-43b2-93df-e585e41e9654",
   "metadata": {},
   "outputs": [],
   "source": [
    "im, trg = TrainDataset[2]"
   ]
  },
  {
   "cell_type": "code",
   "execution_count": 65,
   "id": "039f9c91-782f-4fa8-b460-e1167737495e",
   "metadata": {},
   "outputs": [],
   "source": [
    "grid, df = grid_detect(im)"
   ]
  },
  {
   "cell_type": "code",
   "execution_count": 66,
   "id": "edf48818-4f88-4d7f-917f-4995ebbd478a",
   "metadata": {},
   "outputs": [
    {
     "data": {
      "text/plain": [
       "<matplotlib.image.AxesImage at 0x2c560aab730>"
      ]
     },
     "execution_count": 66,
     "metadata": {},
     "output_type": "execute_result"
    },
    {
     "data": {
      "image/png": "[encoded data removed]",
      "text/plain": [
       "<Figure size 432x288 with 1 Axes>"
      ]
     },
     "metadata": {
      "needs_background": "light"
     },
     "output_type": "display_data"
    }
   ],
   "source": [
    "# show the bboxes for fun\n",
    "cp = im.copy()\n",
    "for bbox in grid:\n",
    "    cp = draw(cp, bbox, \"red\")\n",
    "plt.imshow(cp)"
   ]
  },
  {
   "cell_type": "markdown",
   "id": "7f3e4bba-cdec-4e80-92c2-aae1b9f5837d",
   "metadata": {},
   "source": [
    "### Performance\n",
    "That looks pretty good. But we need a metric to quantify the goodness. IBM has kindly provided a metric for just this purpose, but it doesn't quite fit the bill for this approach. The reason being, we kind of cheated. I did not pay any attention to the 4 categories mentioned above. Instead, the approach was to assume a matrix-like grid, which kind of ignores the spirit of the problem of _understanding_ or extracting the meaning of the table. But, it is suitable for my needs. This means we need to make our own metric.\n",
    "\n",
    "The following metric determines the number of rows and columns that should be detected, and compares it to the number of columns and rows that were detected, divided by the number of rows and columns in the table."
   ]
  },
  {
   "cell_type": "code",
   "execution_count": 83,
   "id": "9c3f7468-9bb4-49d8-8fb6-40168b3526e4",
   "metadata": {},
   "outputs": [],
   "source": [
    "def custom_metric(y_pred, y_actual):\n",
    "    n_cols_actual = max([x[\"col_end\"] for x in y_actual])+1\n",
    "    n_rows_actual = max([x[\"row_end\"] for x in y_actual])+1\n",
    "    \n",
    "    n_cols_pred = 0\n",
    "    y_end = y_pred[0][-1]\n",
    "    for bbox in y_pred:\n",
    "        if bbox[1] >= y_end:\n",
    "            break\n",
    "        n_cols_pred += 1\n",
    "        \n",
    "    n_rows_pred = len(y_pred)/n_cols_pred\n",
    "    return (abs(n_rows_pred - n_rows_actual)+abs(n_cols_actual-n_cols_pred))/(n_cols_actual+n_rows_actual)"
   ]
  },
  {
   "cell_type": "code",
   "execution_count": 85,
   "id": "0569d522-7dc9-40c1-b8cf-7b04b0cdcd41",
   "metadata": {},
   "outputs": [
    {
     "name": "stdout",
     "output_type": "stream",
     "text": [
      "0.1332841601375976\n"
     ]
    }
   ],
   "source": [
    "scores = []\n",
    "for i in range(100):\n",
    "    im, trg = TrainDataset[i]\n",
    "    grid, df = grid_detect(im)\n",
    "    scores.append(custom_metric(grid, trg))\n",
    "print(sum(scores)/len(scores))"
   ]
  },
  {
   "cell_type": "markdown",
   "id": "b603e8e9-274d-4c57-9c64-49f7eefa72e0",
   "metadata": {},
   "source": [
    "The goal here was to predict the number of columns and rows in the table. This algorithm acheived a mean absolute error of ~13%. While the metric is not particularly informative about overall performance, it is sufficient for tuning the parameters of the grid_detect function."
   ]
  },
  {
   "cell_type": "code",
   "execution_count": null,
   "id": "2e999c47-e530-4454-a0fd-b5367c165afe",
   "metadata": {},
   "outputs": [],
   "source": []
  }
 ],
 "metadata": {
  "kernelspec": {
   "display_name": "Python 3 (ipykernel)",
   "language": "python",
   "name": "python3"
  },
  "language_info": {
   "codemirror_mode": {
    "name": "ipython",
    "version": 3
   },
   "file_extension": ".py",
   "mimetype": "text/x-python",
   "name": "python",
   "nbconvert_exporter": "python",
   "pygments_lexer": "ipython3",
   "version": "3.9.7"
  }
 },
 "nbformat": 4,
 "nbformat_minor": 5
}
