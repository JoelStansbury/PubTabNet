{
 "cells": [
  {
   "cell_type": "code",
   "execution_count": 1,
   "id": "ac545684-104f-4bbe-9160-7316cdc8418d",
   "metadata": {},
   "outputs": [],
   "source": [
    "from pathlib import Path\n",
    "from random import shuffle"
   ]
  },
  {
   "cell_type": "code",
   "execution_count": 2,
   "id": "bf831761-5a76-4018-b78d-692ccf09ab4e",
   "metadata": {},
   "outputs": [],
   "source": [
    "import numpy as np\n",
    "import matplotlib.pyplot as plt\n",
    "import matplotlib.colors as mcolors"
   ]
  },
  {
   "cell_type": "code",
   "execution_count": 18,
   "id": "7ff2944e-94bb-4213-b251-45587f4013b9",
   "metadata": {},
   "outputs": [],
   "source": [
    "import torch\n",
    "import torch.nn as nn\n",
    "from torch import optim\n",
    "import torch.nn.functional as F\n",
    "\n",
    "device = torch.device(\"cuda\" if torch.cuda.is_available() else \"cpu\")"
   ]
  },
  {
   "cell_type": "code",
   "execution_count": 4,
   "id": "abc727f2-bbf4-4ba8-a138-6cd60efe0bd4",
   "metadata": {},
   "outputs": [],
   "source": [
    "from PubTabNetDataset import PubTabNet\n",
    "# from TesseractUtils import im_to_data, scale"
   ]
  },
  {
   "cell_type": "code",
   "execution_count": 5,
   "id": "8e91abb7-ce1f-4282-884c-bb2518bc6629",
   "metadata": {},
   "outputs": [],
   "source": [
    "colors = list(mcolors.TABLEAU_COLORS.keys())\n",
    "n_colors = len(colors)"
   ]
  },
  {
   "cell_type": "code",
   "execution_count": 11,
   "id": "32f0ab7b-326d-49d6-b3df-0e9fd58c8247",
   "metadata": {},
   "outputs": [],
   "source": [
    "data_dir = Path(r\"C:\\Users\\stans\\Documents\\Projects\\Datasets\\pubtabnet.tar\\pubtabnet\\pubtabnet\")\n",
    "train_dir = data_dir / \"train\"\n",
    "target_path = data_dir / \"PubTabNet_2.0.0.jsonl\"\n",
    "TrainDataset = PubTabNet(train_dir, target_path)"
   ]
  },
  {
   "cell_type": "code",
   "execution_count": 12,
   "id": "3c97c1da-417f-40fd-b8e4-503349ab1f93",
   "metadata": {},
   "outputs": [],
   "source": [
    "im, _ = TrainDataset[0]"
   ]
  },
  {
   "cell_type": "code",
   "execution_count": 13,
   "id": "d9d961d1-5bb0-4e30-a6d6-349820982390",
   "metadata": {},
   "outputs": [
    {
     "data": {
      "image/png": "[encoded data removed]",
      "text/plain": [
       "<PIL.PngImagePlugin.PngImageFile image mode=RGB size=503x72 at 0x26F4623DD30>"
      ]
     },
     "execution_count": 13,
     "metadata": {},
     "output_type": "execute_result"
    }
   ],
   "source": [
    "im"
   ]
  },
  {
   "cell_type": "code",
   "execution_count": 51,
   "id": "48820621-999f-4d88-9634-14c524db1c28",
   "metadata": {},
   "outputs": [],
   "source": [
    "def data_2_input_matrix(im, data):\n",
    "    W,H = im.size\n",
    "    inp = []\n",
    "    out = []\n",
    "    for d in data:\n",
    "        x,y,w,h = d[\"bbox\"]\n",
    "        x = x / W\n",
    "        y = y / H\n",
    "        w = w / W\n",
    "        h = h / H\n",
    "        \n",
    "        inp.append([x,y,w,h])\n",
    "        out.append([\n",
    "            d[\"col_start\"],\n",
    "            d[\"row_start\"]\n",
    "        ])\n",
    "        \n",
    "    n_cols = max([x[0] for x in out])\n",
    "    n_rows = max([x[1] for x in out])\n",
    "    out = [[c/n_cols, r/n_rows] for c,r in out]\n",
    "    z = list(zip(inp, out))\n",
    "    shuffle(z)\n",
    "    return list(zip(*z))"
   ]
  },
  {
   "cell_type": "code",
   "execution_count": 52,
   "id": "fcfe2685-2e77-4bd2-8c3e-5983588538de",
   "metadata": {},
   "outputs": [
    {
     "data": {
      "text/plain": [
       "([0.25, 0.0],\n",
       " [0.0, 0.0],\n",
       " [0.0, 0.6666666666666666],\n",
       " [0.5, 0.3333333333333333],\n",
       " [0.75, 0.6666666666666666],\n",
       " [0.25, 0.3333333333333333],\n",
       " [0.25, 0.6666666666666666],\n",
       " [0.5, 0.0],\n",
       " [0.75, 1.0],\n",
       " [1.0, 0.6666666666666666],\n",
       " [0.0, 1.0],\n",
       " [0.5, 1.0],\n",
       " [0.75, 0.0],\n",
       " [0.75, 0.3333333333333333],\n",
       " [0.25, 1.0],\n",
       " [1.0, 0.3333333333333333],\n",
       " [0.5, 0.6666666666666666],\n",
       " [0.0, 0.3333333333333333],\n",
       " [1.0, 1.0],\n",
       " [1.0, 0.0])"
      ]
     },
     "execution_count": 52,
     "metadata": {},
     "output_type": "execute_result"
    }
   ],
   "source": [
    "data_2_input_matrix(im, _)[1]"
   ]
  },
  {
   "cell_type": "code",
   "execution_count": 69,
   "id": "213f2975-405c-46b4-83cd-65d79475cc8e",
   "metadata": {},
   "outputs": [],
   "source": [
    "# Hyper-parameters\n",
    "# sequence_length = 256\n",
    "input_size = 4\n",
    "hidden_size = 128\n",
    "output_size = 2\n",
    "num_layers = 2\n",
    "num_classes = 2\n",
    "batch_size = 1\n",
    "num_epochs = 2\n",
    "learning_rate = 0.01\n",
    "MAX_LENGTH = 256"
   ]
  },
  {
   "cell_type": "code",
   "execution_count": 70,
   "id": "db9337e1-df6d-4992-9631-d007fa2ed22f",
   "metadata": {},
   "outputs": [],
   "source": [
    "class AttnDecoderRNN(nn.Module):\n",
    "    def __init__(self, hidden_size, output_size, dropout_p=0.1, max_length=MAX_LENGTH):\n",
    "        super(AttnDecoderRNN, self).__init__()\n",
    "        self.hidden_size = hidden_size\n",
    "        self.output_size = output_size\n",
    "        self.dropout_p = dropout_p\n",
    "        self.max_length = max_length\n",
    "\n",
    "        self.embedding = nn.Embedding(self.output_size, self.hidden_size)\n",
    "        self.attn = nn.Linear(self.hidden_size * 2, self.max_length)\n",
    "        self.attn_combine = nn.Linear(self.hidden_size * 2, self.hidden_size)\n",
    "        self.dropout = nn.Dropout(self.dropout_p)\n",
    "        self.gru = nn.GRU(self.hidden_size, self.hidden_size)\n",
    "        self.out = nn.Linear(self.hidden_size, self.output_size)\n",
    "\n",
    "    def forward(self, input, hidden, encoder_outputs):\n",
    "        embedded = self.embedding(input).view(1, 1, -1)\n",
    "        embedded = self.dropout(embedded)\n",
    "\n",
    "        attn_weights = F.softmax(\n",
    "            self.attn(torch.cat((embedded[0], hidden[0]), 1)), dim=1)\n",
    "        attn_applied = torch.bmm(attn_weights.unsqueeze(0),\n",
    "                                 encoder_outputs.unsqueeze(0))\n",
    "\n",
    "        output = torch.cat((embedded[0], attn_applied[0]), 1)\n",
    "        output = self.attn_combine(output).unsqueeze(0)\n",
    "\n",
    "        output = F.relu(output)\n",
    "        output, hidden = self.gru(output, hidden)\n",
    "\n",
    "        output = F.log_softmax(self.out(output[0]), dim=1)\n",
    "        return output, hidden, attn_weights\n",
    "\n",
    "    def initHidden(self):\n",
    "        return torch.zeros(1, 1, self.hidden_size, device=device)\n",
    "    \n",
    "model = AttnDecoderRNN(hidden_size, output_size).to(device)\n",
    "\n",
    "# Loss and optimizer\n",
    "criterion = nn.MSELoss(reduction='none')  # nn.CrossEntropyLoss()\n",
    "optimizer = torch.optim.Adam(model.parameters(), lr=learning_rate)"
   ]
  },
  {
   "cell_type": "code",
   "execution_count": 62,
   "id": "7cc57b20-8e3b-40e7-a0da-61befc29c921",
   "metadata": {
    "jupyter": {
     "source_hidden": true
    },
    "tags": []
   },
   "outputs": [],
   "source": [
    "# class RNN(nn.Module):\n",
    "#     def __init__(self, input_size, hidden_size, num_layers, num_classes):\n",
    "#         super(RNN, self).__init__()\n",
    "#         self.hidden_size = hidden_size\n",
    "#         self.num_layers = num_layers\n",
    "#         self.lstm = nn.LSTM(input_size, hidden_size, num_layers, batch_first=True)\n",
    "#         self.fc = nn.Linear(hidden_size, num_classes)\n",
    "    \n",
    "#     def forward(self, x):\n",
    "#         # Set initial hidden and cell states \n",
    "#         h0 = torch.zeros(self.num_layers, x.size(0), self.hidden_size).to(device) \n",
    "#         c0 = torch.zeros(self.num_layers, x.size(0), self.hidden_size).to(device)\n",
    "        \n",
    "#         # Forward propagate LSTM\n",
    "#         out, _ = self.lstm(x, (h0, c0))  # out: tensor of shape (batch_size, seq_length, hidden_size)\n",
    "        \n",
    "#         # Decode the hidden state of the last time step\n",
    "#         out = self.fc(out[:, -1, :])\n",
    "#         return out\n",
    "\n",
    "# model = RNN(input_size, hidden_size, num_layers, num_classes).to(device)\n",
    "\n",
    "# # Loss and optimizer\n",
    "# criterion = nn.MSELoss(reduction='none')  # nn.CrossEntropyLoss()\n",
    "# optimizer = torch.optim.Adam(model.parameters(), lr=learning_rate)"
   ]
  },
  {
   "cell_type": "code",
   "execution_count": 71,
   "id": "458f120a-bad9-4874-98c1-d30f2985d77d",
   "metadata": {},
   "outputs": [
    {
     "ename": "TypeError",
     "evalue": "forward() missing 2 required positional arguments: 'hidden' and 'encoder_outputs'",
     "output_type": "error",
     "traceback": [
      "\u001b[1;31m---------------------------------------------------------------------------\u001b[0m",
      "\u001b[1;31mTypeError\u001b[0m                                 Traceback (most recent call last)",
      "\u001b[1;32m~\\AppData\\Local\\Temp/ipykernel_25756/3828073104.py\u001b[0m in \u001b[0;36m<module>\u001b[1;34m\u001b[0m\n\u001b[0;32m     10\u001b[0m \u001b[1;33m\u001b[0m\u001b[0m\n\u001b[0;32m     11\u001b[0m         \u001b[1;31m# Forward pass\u001b[0m\u001b[1;33m\u001b[0m\u001b[1;33m\u001b[0m\u001b[0m\n\u001b[1;32m---> 12\u001b[1;33m         \u001b[0my_pred\u001b[0m \u001b[1;33m=\u001b[0m \u001b[0mmodel\u001b[0m\u001b[1;33m(\u001b[0m\u001b[0mx\u001b[0m\u001b[1;33m)\u001b[0m\u001b[1;33m\u001b[0m\u001b[1;33m\u001b[0m\u001b[0m\n\u001b[0m\u001b[0;32m     13\u001b[0m         \u001b[0mloss\u001b[0m \u001b[1;33m=\u001b[0m \u001b[0mcriterion\u001b[0m\u001b[1;33m(\u001b[0m\u001b[0my_pred\u001b[0m\u001b[1;33m,\u001b[0m \u001b[0my\u001b[0m\u001b[1;33m)\u001b[0m\u001b[1;33m\u001b[0m\u001b[1;33m\u001b[0m\u001b[0m\n\u001b[0;32m     14\u001b[0m \u001b[1;33m\u001b[0m\u001b[0m\n",
      "\u001b[1;32m~\\Documents\\Projects\\git\\PubTabNet\\envs\\pytorch\\lib\\site-packages\\torch\\nn\\modules\\module.py\u001b[0m in \u001b[0;36m_call_impl\u001b[1;34m(self, *input, **kwargs)\u001b[0m\n\u001b[0;32m   1049\u001b[0m         if not (self._backward_hooks or self._forward_hooks or self._forward_pre_hooks or _global_backward_hooks\n\u001b[0;32m   1050\u001b[0m                 or _global_forward_hooks or _global_forward_pre_hooks):\n\u001b[1;32m-> 1051\u001b[1;33m             \u001b[1;32mreturn\u001b[0m \u001b[0mforward_call\u001b[0m\u001b[1;33m(\u001b[0m\u001b[1;33m*\u001b[0m\u001b[0minput\u001b[0m\u001b[1;33m,\u001b[0m \u001b[1;33m**\u001b[0m\u001b[0mkwargs\u001b[0m\u001b[1;33m)\u001b[0m\u001b[1;33m\u001b[0m\u001b[1;33m\u001b[0m\u001b[0m\n\u001b[0m\u001b[0;32m   1052\u001b[0m         \u001b[1;31m# Do not call functions when jit is used\u001b[0m\u001b[1;33m\u001b[0m\u001b[1;33m\u001b[0m\u001b[0m\n\u001b[0;32m   1053\u001b[0m         \u001b[0mfull_backward_hooks\u001b[0m\u001b[1;33m,\u001b[0m \u001b[0mnon_full_backward_hooks\u001b[0m \u001b[1;33m=\u001b[0m \u001b[1;33m[\u001b[0m\u001b[1;33m]\u001b[0m\u001b[1;33m,\u001b[0m \u001b[1;33m[\u001b[0m\u001b[1;33m]\u001b[0m\u001b[1;33m\u001b[0m\u001b[1;33m\u001b[0m\u001b[0m\n",
      "\u001b[1;31mTypeError\u001b[0m: forward() missing 2 required positional arguments: 'hidden' and 'encoder_outputs'"
     ]
    }
   ],
   "source": [
    "# Train the model\n",
    "for epoch in range(num_epochs):\n",
    "    for i in range(100):\n",
    "        im, labels = TrainDataset[0]\n",
    "        x, y = data_2_input_matrix(im, labels)\n",
    "        \n",
    "        x = torch.tensor(x).to(device)\n",
    "        x = x.unsqueeze(0)\n",
    "        y = torch.tensor(y).to(device)\n",
    "        \n",
    "        # Forward pass\n",
    "        y_pred = model(x)\n",
    "        loss = criterion(y_pred, y)\n",
    "        \n",
    "        # Backward and optimize\n",
    "        optimizer.zero_grad()\n",
    "        loss.mean().backward()  # .backward()\n",
    "        optimizer.step()\n",
    "        \n",
    "        if (i+1) % 10 == 0:\n",
    "            print ('Epoch [{}/{}], Step {}, Loss: {:.4f}' \n",
    "                   .format(epoch+1, num_epochs, i+1, loss.mean()))"
   ]
  },
  {
   "cell_type": "code",
   "execution_count": 24,
   "id": "f0c30e0b-2cf5-4a37-8934-21191db12abd",
   "metadata": {},
   "outputs": [],
   "source": [
    "from random import shuffle"
   ]
  },
  {
   "cell_type": "code",
   "execution_count": 27,
   "id": "d5b8f2ea-e9a9-438e-877c-8b724583141e",
   "metadata": {},
   "outputs": [
    {
     "data": {
      "text/plain": [
       "[5, 2, 1, 4, 3]"
      ]
     },
     "execution_count": 27,
     "metadata": {},
     "output_type": "execute_result"
    }
   ],
   "source": [
    "a = [1,2,3,4,5]\n",
    "shuffle(a)\n",
    "a"
   ]
  },
  {
   "cell_type": "code",
   "execution_count": 64,
   "id": "4d4faa0d-138b-40e3-9600-d4c47de085e3",
   "metadata": {},
   "outputs": [],
   "source": [
    "x, y = data_2_input_matrix(im, labels)\n",
    "        \n",
    "x = torch.tensor(x).to(device)\n",
    "x = x.unsqueeze(0)\n",
    "y = torch.tensor(y).to(device)\n",
    "y_pred = model(x)"
   ]
  },
  {
   "cell_type": "code",
   "execution_count": 66,
   "id": "11b27354-02be-4687-8ced-8fdb556b20f6",
   "metadata": {},
   "outputs": [
    {
     "data": {
      "text/plain": [
       "tensor([[0.4986, 0.5022]], device='cuda:0', grad_fn=<AddmmBackward>)"
      ]
     },
     "execution_count": 66,
     "metadata": {},
     "output_type": "execute_result"
    }
   ],
   "source": [
    "y_pred"
   ]
  },
  {
   "cell_type": "code",
   "execution_count": 65,
   "id": "d07fd925-aeec-4b5b-90e6-00ecc9ca4930",
   "metadata": {},
   "outputs": [
    {
     "data": {
      "text/plain": [
       "tensor([[0.5000, 0.3333],\n",
       "        [0.0000, 0.6667],\n",
       "        [1.0000, 0.6667],\n",
       "        [0.7500, 0.3333],\n",
       "        [0.0000, 1.0000],\n",
       "        [0.2500, 0.6667],\n",
       "        [1.0000, 1.0000],\n",
       "        [0.7500, 0.0000],\n",
       "        [1.0000, 0.0000],\n",
       "        [0.2500, 0.3333],\n",
       "        [0.0000, 0.3333],\n",
       "        [0.0000, 0.0000],\n",
       "        [0.7500, 1.0000],\n",
       "        [0.7500, 0.6667],\n",
       "        [0.2500, 1.0000],\n",
       "        [1.0000, 0.3333],\n",
       "        [0.5000, 1.0000],\n",
       "        [0.2500, 0.0000],\n",
       "        [0.5000, 0.6667],\n",
       "        [0.5000, 0.0000]], device='cuda:0')"
      ]
     },
     "execution_count": 65,
     "metadata": {},
     "output_type": "execute_result"
    }
   ],
   "source": [
    "y"
   ]
  },
  {
   "cell_type": "code",
   "execution_count": null,
   "id": "84139c83-b924-4f17-8d47-0b77961e793c",
   "metadata": {},
   "outputs": [],
   "source": []
  }
 ],
 "metadata": {
  "kernelspec": {
   "display_name": "Python 3 (ipykernel)",
   "language": "python",
   "name": "python3"
  },
  "language_info": {
   "codemirror_mode": {
    "name": "ipython",
    "version": 3
   },
   "file_extension": ".py",
   "mimetype": "text/x-python",
   "name": "python",
   "nbconvert_exporter": "python",
   "pygments_lexer": "ipython3",
   "version": "3.10.0"
  }
 },
 "nbformat": 4,
 "nbformat_minor": 5
}
