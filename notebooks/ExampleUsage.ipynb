{
 "cells": [
  {
   "cell_type": "code",
   "execution_count": 1,
   "id": "345994ff-7b6e-4c38-9a29-8e8e47b9c4bb",
   "metadata": {},
   "outputs": [],
   "source": [
    "from pathlib import Path\n",
    "\n",
    "from PubTabNetDataset import PubTabNet\n",
    "from GMMTableParse import im_to_table"
   ]
  },
  {
   "cell_type": "code",
   "execution_count": 2,
   "id": "b4955300-604a-4f33-ac29-d076af69da6d",
   "metadata": {},
   "outputs": [],
   "source": [
    "data_dir = Path(r\"C:\\Users\\stans\\Documents\\Projects\\Datasets\\pubtabnet.tar\\pubtabnet\\pubtabnet\")\n",
    "train_dir = data_dir / \"train\"\n",
    "target_path = data_dir / \"PubTabNet_2.0.0.jsonl\"\n",
    "TrainDataset = PubTabNet(train_dir, target_path)"
   ]
  },
  {
   "cell_type": "code",
   "execution_count": 24,
   "id": "49b7bd2c-e12e-4ac3-9087-51344854b8cf",
   "metadata": {},
   "outputs": [
    {
     "data": {
      "image/png": "[encoded data removed]",
      "text/plain": [
       "<Figure size 432x288 with 1 Axes>"
      ]
     },
     "metadata": {
      "needs_background": "light"
     },
     "output_type": "display_data"
    }
   ],
   "source": [
    "im, target = TrainDataset[11]\n",
    "df = im_to_table(im, scaling_factor=4, verbose=True)"
   ]
  },
  {
   "cell_type": "code",
   "execution_count": 25,
   "id": "f0154086-47ed-455b-b10d-f3ba95131262",
   "metadata": {},
   "outputs": [
    {
     "data": {
      "text/html": [
       "<div>\n",
       "<style scoped>\n",
       "    .dataframe tbody tr th:only-of-type {\n",
       "        vertical-align: middle;\n",
       "    }\n",
       "\n",
       "    .dataframe tbody tr th {\n",
       "        vertical-align: top;\n",
       "    }\n",
       "\n",
       "    .dataframe thead th {\n",
       "        text-align: right;\n",
       "    }\n",
       "</style>\n",
       "<table border=\"1\" class=\"dataframe\">\n",
       "  <thead>\n",
       "    <tr style=\"text-align: right;\">\n",
       "      <th></th>\n",
       "      <th>0</th>\n",
       "      <th>1</th>\n",
       "      <th>2</th>\n",
       "      <th>3</th>\n",
       "      <th>4</th>\n",
       "      <th>5</th>\n",
       "      <th>6</th>\n",
       "      <th>7</th>\n",
       "    </tr>\n",
       "  </thead>\n",
       "  <tbody>\n",
       "    <tr>\n",
       "      <th>0</th>\n",
       "      <td></td>\n",
       "      <td></td>\n",
       "      <td></td>\n",
       "      <td>Nonfounder atatetic</td>\n",
       "      <td></td>\n",
       "      <td></td>\n",
       "      <td>Fousder stalmtic</td>\n",
       "      <td></td>\n",
       "    </tr>\n",
       "    <tr>\n",
       "      <th>1</th>\n",
       "      <td>Variant</td>\n",
       "      <td>Estimated allele</td>\n",
       "      <td>Recess model</td>\n",
       "      <td>Dominant modal</td>\n",
       "      <td>Additan moda</td>\n",
       "      <td>Recessive model</td>\n",
       "      <td>model</td>\n",
       "      <td>Additive model</td>\n",
       "    </tr>\n",
       "    <tr>\n",
       "      <th>2</th>\n",
       "      <td></td>\n",
       "      <td>frequency )</td>\n",
       "      <td></td>\n",
       "      <td></td>\n",
       "      <td></td>\n",
       "      <td></td>\n",
       "      <td></td>\n",
       "      <td></td>\n",
       "    </tr>\n",
       "    <tr>\n",
       "      <th>3</th>\n",
       "      <td>CYPI7</td>\n",
       "      <td></td>\n",
       "      <td></td>\n",
       "      <td></td>\n",
       "      <td></td>\n",
       "      <td></td>\n",
       "      <td></td>\n",
       "      <td></td>\n",
       "    </tr>\n",
       "    <tr>\n",
       "      <th>4</th>\n",
       "      <td>c</td>\n",
       "      <td>42.46</td>\n",
       "      <td></td>\n",
       "      <td></td>\n",
       "      <td></td>\n",
       "      <td>0.40</td>\n",
       "      <td>1.08</td>\n",
       "      <td>1.01</td>\n",
       "    </tr>\n",
       "    <tr>\n",
       "      <th>5</th>\n",
       "      <td>e</td>\n",
       "      <td></td>\n",
       "      <td>0.16</td>\n",
       "      <td>0.06</td>\n",
       "      <td>0.03</td>\n",
       "      <td>0.34</td>\n",
       "      <td>o14</td>\n",
       "      <td>O16</td>\n",
       "    </tr>\n",
       "    <tr>\n",
       "      <th>6</th>\n",
       "      <td>CYPI9</td>\n",
       "      <td></td>\n",
       "      <td></td>\n",
       "      <td></td>\n",
       "      <td></td>\n",
       "      <td></td>\n",
       "      <td></td>\n",
       "      <td></td>\n",
       "    </tr>\n",
       "    <tr>\n",
       "      <th>7</th>\n",
       "      <td>(TTTA),,,</td>\n",
       "      <td>33.71</td>\n",
       "      <td>1.24</td>\n",
       "      <td>1.26</td>\n",
       "      <td>0.32</td>\n",
       "      <td>0.32</td>\n",
       "      <td>1.66</td>\n",
       "      <td>1.13</td>\n",
       "    </tr>\n",
       "    <tr>\n",
       "      <th>8</th>\n",
       "      <td>e</td>\n",
       "      <td></td>\n",
       "      <td>0.11</td>\n",
       "      <td>0.10</td>\n",
       "      <td>0.38</td>\n",
       "      <td>0.37</td>\n",
       "      <td>0.06</td>\n",
       "      <td>O13</td>\n",
       "    </tr>\n",
       "    <tr>\n",
       "      <th>9</th>\n",
       "      <td>(TTTA),,</td>\n",
       "      <td>28.78</td>\n",
       "      <td>1.09</td>\n",
       "      <td>1.83</td>\n",
       "      <td>0.97</td>\n",
       "      <td>1.50</td>\n",
       "      <td>1.96</td>\n",
       "      <td>O89</td>\n",
       "    </tr>\n",
       "    <tr>\n",
       "      <th>10</th>\n",
       "      <td>e</td>\n",
       "      <td></td>\n",
       "      <td>0.14</td>\n",
       "      <td>0.03</td>\n",
       "      <td>0.17</td>\n",
       "      <td>0.07</td>\n",
       "      <td>oo</td>\n",
       "      <td>O19</td>\n",
       "    </tr>\n",
       "  </tbody>\n",
       "</table>\n",
       "</div>"
      ],
      "text/plain": [
       "            0                 1             2                    3  \\\n",
       "0                                              Nonfounder atatetic   \n",
       "1     Variant  Estimated allele  Recess model       Dominant modal   \n",
       "2                   frequency )                                      \n",
       "3       CYPI7                                                        \n",
       "4           c             42.46                                      \n",
       "5           e                            0.16                 0.06   \n",
       "6       CYPI9                                                        \n",
       "7   (TTTA),,,             33.71          1.24                 1.26   \n",
       "8           e                            0.11                 0.10   \n",
       "9    (TTTA),,             28.78          1.09                 1.83   \n",
       "10          e                            0.14                 0.03   \n",
       "\n",
       "               4                5                 6               7  \n",
       "0                                  Fousder stalmtic                  \n",
       "1   Additan moda  Recessive model             model  Additive model  \n",
       "2                                                                    \n",
       "3                                                                    \n",
       "4                            0.40              1.08            1.01  \n",
       "5           0.03             0.34               o14             O16  \n",
       "6                                                                    \n",
       "7           0.32             0.32              1.66            1.13  \n",
       "8           0.38             0.37              0.06             O13  \n",
       "9           0.97             1.50              1.96             O89  \n",
       "10          0.17             0.07                oo             O19  "
      ]
     },
     "execution_count": 25,
     "metadata": {},
     "output_type": "execute_result"
    }
   ],
   "source": [
    "df"
   ]
  },
  {
   "cell_type": "code",
   "execution_count": 26,
   "id": "994c73ab-0407-4a0a-8be6-6998cb91e0d7",
   "metadata": {},
   "outputs": [
    {
     "data": {
      "image/png": "[encoded data removed]",
      "text/plain": [
       "<PIL.PngImagePlugin.PngImageFile image mode=RGB size=503x172 at 0x27BF27CA470>"
      ]
     },
     "execution_count": 26,
     "metadata": {},
     "output_type": "execute_result"
    }
   ],
   "source": [
    "im"
   ]
  },
  {
   "cell_type": "code",
   "execution_count": null,
   "id": "65db1690-09fb-4676-b591-f4684b22ee3d",
   "metadata": {},
   "outputs": [],
   "source": []
  },
  {
   "cell_type": "code",
   "execution_count": null,
   "id": "b191bf5b-d1bd-49eb-ab78-2cf6ee989247",
   "metadata": {},
   "outputs": [],
   "source": []
  }
 ],
 "metadata": {
  "kernelspec": {
   "display_name": "Python 3 (ipykernel)",
   "language": "python",
   "name": "python3"
  },
  "language_info": {
   "codemirror_mode": {
    "name": "ipython",
    "version": 3
   },
   "file_extension": ".py",
   "mimetype": "text/x-python",
   "name": "python",
   "nbconvert_exporter": "python",
   "pygments_lexer": "ipython3",
   "version": "3.10.0"
  }
 },
 "nbformat": 4,
 "nbformat_minor": 5
}
